{
 "cells": [
  {
   "cell_type": "markdown",
   "id": "1831d41e",
   "metadata": {},
   "source": [
    "# Analyze Feature Extractors"
   ]
  },
  {
   "cell_type": "markdown",
   "id": "0c2e1838",
   "metadata": {},
   "source": [
    "## Imports and example audio"
   ]
  },
  {
   "cell_type": "code",
   "execution_count": 1,
   "id": "71de2385",
   "metadata": {},
   "outputs": [],
   "source": [
    "import importlib\n",
    "import matplotlib\n",
    "import matplotlib.pyplot as plt\n",
    "import numpy as np\n",
    "import os.path\n",
    "import pickle\n",
    "import soundfile\n",
    "import string\n",
    "from scipy import signal\n",
    "\n",
    "import analysis_helpers as analysis"
   ]
  },
  {
   "cell_type": "code",
   "execution_count": 2,
   "id": "d70c8754",
   "metadata": {},
   "outputs": [],
   "source": [
    "audio_file = \"/u/vieting/tmp/audios/librispeech.test_other.533-1066.wav\"\n",
    "audio, fr = soundfile.read(audio_file)\n",
    "audio = np.reshape(audio[:16_000 * 5], [1, -1, 1])"
   ]
  },
  {
   "cell_type": "code",
   "execution_count": 3,
   "id": "f768b7f3",
   "metadata": {},
   "outputs": [],
   "source": [
    "EXPORT = True\n",
    "EXPORTPATH = \"/u/vieting/Documents/text/2023_interspeech_features/\"\n",
    "cm = 1 / 2.54  # centimeters in inches\n",
    "if EXPORT:\n",
    "    matplotlib.use(\"pgf\")\n",
    "    matplotlib.rcParams.update({\n",
    "        \"pgf.texsystem\": \"pdflatex\",\n",
    "        \"font.family\": \"serif\",\n",
    "        \"text.usetex\": True,\n",
    "        \"pgf.rcfonts\": False,\n",
    "    })"
   ]
  },
  {
   "cell_type": "markdown",
   "id": "a7d2c709",
   "metadata": {},
   "source": [
    "## Helpers"
   ]
  },
  {
   "cell_type": "code",
   "execution_count": 4,
   "id": "98abf16b",
   "metadata": {},
   "outputs": [],
   "source": [
    "def get_params_layer_n(feat, n, params):\n",
    "    feat_name_mapped = feat.split(\"_\")[0]\n",
    "    map = {\n",
    "        \"gammatone\": {\n",
    "            1: \"features/gammatone_filterbank/W\",\n",
    "            2: \"features/temporal_integration/W\",\n",
    "        },\n",
    "        \"i6\": {\n",
    "            1: \"features/conv_h/W\",\n",
    "            2: \"features/conv_l/W\",\n",
    "        },\n",
    "        \"i6gt\": {\n",
    "            1: \"features/scf/conv_h/W\",\n",
    "            2: \"features/scf/conv_l/W\",\n",
    "        },\n",
    "        \"w2v\": {\n",
    "            1: \"features/layer0/layer0/W\",\n",
    "            2: \"features/layer1/layer0/W\",\n",
    "            3: \"features/layer2/layer0/W\",\n",
    "            4: \"features/layer3/layer0/W\",\n",
    "            5: \"features/layer4/layer0/W\",\n",
    "            6: \"features/layer5/layer0/W\",\n",
    "        },\n",
    "    }\n",
    "    return params[feat][map[feat_name_mapped][n]]"
   ]
  },
  {
   "cell_type": "markdown",
   "id": "f1ca428a",
   "metadata": {},
   "source": [
    "## Load Data"
   ]
  },
  {
   "cell_type": "code",
   "execution_count": 5,
   "id": "803fa456",
   "metadata": {},
   "outputs": [],
   "source": [
    "with open(\"data.p\", \"rb\") as f:\n",
    "    data = pickle.load(f)\n",
    "    features = data[\"features\"]\n",
    "    params = data[\"params\"]\n",
    "with open(\"freq_resp.p\", \"rb\") as f:\n",
    "    freq_resp = pickle.load(f)"
   ]
  },
  {
   "cell_type": "markdown",
   "id": "05287f31",
   "metadata": {},
   "source": [
    "## Analyze Parameters"
   ]
  },
  {
   "cell_type": "code",
   "execution_count": 32,
   "id": "4462bffa",
   "metadata": {
    "scrolled": false
   },
   "outputs": [],
   "source": [
    "analysis = importlib.reload(analysis)\n",
    "fig, axs = plt.subplots(3, 2, figsize=(16 * cm, 9.5 * cm))\n",
    "titles = {\n",
    "    \"gammatone\": \"Gammatone\",\n",
    "    \"i6\": \"SC\",\n",
    "    \"w2v\": \"wav2vec 2.0 FE\",\n",
    "    \"w2v_pretrained_freeze\": \"wav2vec 2.0 FE (pre-training)\"\n",
    "}\n",
    "\n",
    "# first layer\n",
    "for idx, feat in enumerate([\"gammatone\", \"i6\", \"w2v\", \"w2v_pretrained_freeze\"]):\n",
    "    filters = get_params_layer_n(feat, 1, params).squeeze().T\n",
    "    f_resp = np.zeros((filters.shape[0], 512))\n",
    "    for fltr in range(filters.shape[0]):\n",
    "        omega, f_r = signal.freqz(filters[fltr, :])\n",
    "        f_resp[fltr, :] = 20 * np.log10(np.abs(f_r[::-1]))\n",
    "    f_resp = np.rot90(f_resp)\n",
    "    f = np.linspace(0, 8, filters.shape[0])\n",
    "    f_resp = analysis.get_sorted_filters(f_resp, version=\"v4\")#, threshold=0.25)\n",
    "\n",
    "    ax = axs[idx // 2, idx % 2]\n",
    "    im = ax.imshow(\n",
    "        f_resp, origin=\"lower\", aspect=\"auto\", extent=[1, f_resp.shape[1], f[0], f[-1]], vmin=-100, vmax=30,\n",
    "    )\n",
    "    if idx >= len(fig.get_axes()) - 2:\n",
    "        ax.set_xlabel(\"Filter index\")\n",
    "    if idx % 2 == 0:\n",
    "        ax.set_ylabel(\"Frequency [kHz]\")\n",
    "    ax.set_yticks([0, 4, 8])\n",
    "    ax.set_title(f\"({string.ascii_lowercase[idx]}) {titles[feat]}\")\n",
    "    \n",
    "# full FE\n",
    "for idx, feat in enumerate([\"i6\", \"w2v\"]):\n",
    "    f, f_resp = freq_resp[feat]\n",
    "    f = [f_ / 1000 for f_ in f]\n",
    "    f_resp = analysis.get_sorted_filters(f_resp, version=\"v4\")\n",
    "    \n",
    "    ax = axs[idx // 2 + 2, idx % 2]\n",
    "    im = ax.imshow(\n",
    "        f_resp, origin=\"lower\", aspect=\"auto\", extent=[1, f_resp.shape[1], f[0], f[-1]],\n",
    "    )\n",
    "    ax.set_xlabel(\"Filter index\")\n",
    "    if idx % 2 == 0:\n",
    "        ax.set_ylabel(\"Frequency [kHz]\")\n",
    "    ax.set_yticks([0, 4, 8])\n",
    "    ax.set_title(f\"({string.ascii_lowercase[idx + 4]}) {titles[feat]}\")\n",
    "\n",
    "# fig.colorbar(im, ax=axs.ravel().tolist())\n",
    "# fig.subplots_adjust(wspace=0.25, hspace=0.25) # set the spacing between axes. \n",
    "fig.tight_layout(pad=0.1)\n",
    "\n",
    "if EXPORT:\n",
    "    plt.savefig(f\"{EXPORTPATH}first_layer.pgf\")\n",
    "else:\n",
    "    plt.show()"
   ]
  },
  {
   "cell_type": "code",
   "execution_count": 7,
   "id": "5b4444fa",
   "metadata": {},
   "outputs": [],
   "source": [
    "# # get sorted indices for masking in recognition\n",
    "# feat = \"i6\"\n",
    "# filters = get_params_layer_n(feat, 1, params).squeeze().T\n",
    "# f_resp = np.zeros((filters.shape[0], 512))\n",
    "# for fltr in range(filters.shape[0]):\n",
    "#     omega, f_r = signal.freqz(filters[fltr, :])\n",
    "#     f_resp[fltr, :] = 20 * np.log10(np.abs(f_r[::-1]))\n",
    "# f_resp = np.rot90(f_resp)\n",
    "# f = np.linspace(0, 8, filters.shape[0])\n",
    "\n",
    "# f_resp_nolog = 10 ** (f_resp / 20)  # from log to regular domain\n",
    "# mean_to_max = f_resp_nolog.mean(axis=0) / f_resp_nolog.max(axis=0)\n",
    "# sorted_idcs = np.argsort(mean_to_max)\n",
    "# f_resp = f_resp[:, sorted_idcs]\n",
    "# print(mean_to_max.max(), mean_to_max.min())\n",
    "\n",
    "# plt.imshow(f_resp, origin=\"lower\", aspect=\"auto\")\n",
    "# plt.show()"
   ]
  },
  {
   "cell_type": "code",
   "execution_count": 8,
   "id": "3a2e840c",
   "metadata": {},
   "outputs": [],
   "source": [
    "# feat = \"w2v\"\n",
    "# filters = get_params_layer_n(feat, 1, params).squeeze().T\n",
    "# f_resp = np.zeros((filters.shape[0], 512))\n",
    "# for fltr in range(filters.shape[0]):\n",
    "#     omega, f_r = signal.freqz(filters[fltr, :])\n",
    "#     f_resp[fltr, :] = 20 * np.log10(np.abs(f_r[::-1]))\n",
    "# f_resp = np.rot90(f_resp)\n",
    "# f = np.linspace(0, 8, filters.shape[0])\n",
    "\n",
    "# # f_resp = analysis.get_sorted_filters(f_resp, version=\"v0\")\n",
    "# f_cent = analysis.get_center_frequencies(f_resp)\n",
    "# f_cent_2 = np.argsort(f_resp, axis=0)[-2]\n",
    "# f_cut_u = analysis.get_cutoff_frequencies(f_resp)\n",
    "# sorting = \"v2\"\n",
    "# if sorting == \"v0\":  # v0: f_cent only\n",
    "#     sorted_idcs = np.argsort(f_cent)\n",
    "#     f_resp = f_resp[:, sorted_idcs]\n",
    "# elif sorting == \"v1\":  # v1: f_cent, then f_cutoff upper\n",
    "#     sorted_idcs = np.lexsort((f_cut_u, f_cent))\n",
    "#     f_resp = f_resp[:, sorted_idcs]\n",
    "# elif sorting == \"v2\":  # v1: f_cent, then f_cent_2\n",
    "#     sorted_idcs = np.lexsort((f_cent_2, f_cent))\n",
    "#     f_resp = f_resp[:, sorted_idcs]\n",
    "# else:\n",
    "#     assert False\n",
    "\n",
    "# plt.imshow(f_resp, origin=\"lower\", aspect=\"auto\")\n",
    "# plt.show()\n",
    "# plt.plot(f_cent[sorted_idcs])\n",
    "# plt.plot(f_cut_u[sorted_idcs])\n",
    "# plt.show()\n",
    "# plt.plot(f_resp[:, 0:3])\n",
    "# plt.legend([str(idx) for idx in range(5)])\n",
    "# plt.show()"
   ]
  },
  {
   "cell_type": "markdown",
   "id": "53a5eb55",
   "metadata": {},
   "source": [
    "## Results after masking"
   ]
  },
  {
   "cell_type": "code",
   "execution_count": 31,
   "id": "071815dc",
   "metadata": {},
   "outputs": [],
   "source": [
    "num_masked = [0, 5, 10, 15, 20, 25, 30, 35, 40, 50, 60, 70, 80]\n",
    "wer = [7.1, 7.1, 7.1, 7.1, 7.1, 7.2, 7.2, 7.3, 7.4, 7.7, 9.0, 12.5, 19.9]\n",
    "\n",
    "fig, ax = plt.subplots(1, 1, figsize=(7.5 * cm, 2.5 * cm))\n",
    "ax.plot(num_masked, wer, \"-o\", ms='3')\n",
    "ax.set_xlabel(\"Masked Filters\")\n",
    "ax.set_ylabel(\"WER\")\n",
    "# ax.set_xlim([0, 80])\n",
    "fig.tight_layout(pad=0.1)\n",
    "\n",
    "if EXPORT:\n",
    "    plt.savefig(f\"{EXPORTPATH}masked_filters.pgf\")\n",
    "else:\n",
    "    plt.show()"
   ]
  }
 ],
 "metadata": {
  "kernelspec": {
   "display_name": "Python 3 (ipykernel)",
   "language": "python",
   "name": "python3"
  },
  "language_info": {
   "codemirror_mode": {
    "name": "ipython",
    "version": 3
   },
   "file_extension": ".py",
   "mimetype": "text/x-python",
   "name": "python",
   "nbconvert_exporter": "python",
   "pygments_lexer": "ipython3",
   "version": "3.10.9"
  }
 },
 "nbformat": 4,
 "nbformat_minor": 5
}
